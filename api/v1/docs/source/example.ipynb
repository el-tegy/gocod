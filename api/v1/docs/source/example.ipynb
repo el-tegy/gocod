{
 "cells": [
  {
   "cell_type": "markdown",
   "metadata": {},
   "source": [
    "# USAGE\n",
    "\n",
    "😱 How to use `gocod_lt2a` ?"
   ]
  },
  {
   "cell_type": "markdown",
   "metadata": {},
   "source": [
    "##### MONGO DB CRUD OPERATIONS EXAMPLES"
   ]
  },
  {
   "cell_type": "code",
   "execution_count": 3,
   "metadata": {},
   "outputs": [],
   "source": [
    "import sys\n",
    "sys.path.append('<path to the folder containing the package>') # placehoder"
   ]
  },
  {
   "cell_type": "code",
   "execution_count": 1,
   "metadata": {},
   "outputs": [],
   "source": [
    "import os\n",
    "\n",
    "# Set the path to the directory containing the 'api' module\n",
    "path_to_api = '<path to the folder containing the package>' # placehoder\n",
    "\n",
    "# Change the current working directory to 'path_to_api'\n",
    "os.chdir(path_to_api)"
   ]
  },
  {
   "cell_type": "code",
   "execution_count": 47,
   "metadata": {
    "ExecuteTime": {
     "end_time": "2023-08-26T23:00:37.452040Z",
     "start_time": "2023-08-26T23:00:37.412483400Z"
    }
   },
   "outputs": [
    {
     "name": "stdout",
     "output_type": "stream",
     "text": [
      "Connected to MongoDB!\n"
     ]
    }
   ],
   "source": [
    "from api.v1.src.dependencies import get_mongo_db\n",
    "\n",
    "# Create a function to get a mongo instance\n",
    "def mongo_instance():\n",
    "    db = get_mongo_db(\"example_db\")\n",
    "    yield db\n",
    "\n",
    "mongo_db = next(mongo_instance())\n",
    "if mongo_db is not None:\n",
    "    print(\"Connected to MongoDB!\")"
   ]
  },
  {
   "cell_type": "code",
   "execution_count": 48,
   "metadata": {},
   "outputs": [
    {
     "name": "stdout",
     "output_type": "stream",
     "text": [
      "Created index example_1 on users collection\n"
     ]
    }
   ],
   "source": [
    "# Create an index\n",
    "\n",
    "mongo_db.drop_index(\"users\", \"example_1\")\n",
    "index_name = mongo_db.create_index(\"users\", \"example\", unique=True).get(\n",
    "\"result\"\n",
    ")\n",
    "print(f\"Created index {index_name} on users collection\")"
   ]
  },
  {
   "cell_type": "code",
   "execution_count": 54,
   "metadata": {},
   "outputs": [
    {
     "name": "stdout",
     "output_type": "stream",
     "text": [
      "Created a document with id : 6561d17c317d5801a15d57c6 in users collection\n"
     ]
    }
   ],
   "source": [
    "# Create a document in a collection\n",
    "\n",
    "mongo_db.drop_collection(\"users\")\n",
    "document = {\"username\": \"Toto\", \"name\": \"Tati\", \"age\": 20}\n",
    "document_id = mongo_db.create(document, \"users\").get(\"result\")\n",
    "print(f\"Created a document with id : {document_id} in users collection\")"
   ]
  },
  {
   "cell_type": "markdown",
   "metadata": {},
   "source": [
    "##### NEO4J DB NODE CREATION EXAMPLE"
   ]
  },
  {
   "cell_type": "code",
   "execution_count": 56,
   "metadata": {},
   "outputs": [
    {
     "name": "stdout",
     "output_type": "stream",
     "text": [
      "Connected to Neo4j DB!\n"
     ]
    }
   ],
   "source": [
    "from api.v1.src.dependencies import get_neo4j_db\n",
    "\n",
    "def neo4j_db_instance():\n",
    "    neo4j_db = get_neo4j_db()\n",
    "    yield neo4j_db\n",
    "\n",
    "neo4j_db = next(neo4j_db_instance())\n",
    "if neo4j_db is not None:\n",
    "    print(\"Connected to Neo4j DB!\")"
   ]
  },
  {
   "cell_type": "code",
   "execution_count": 58,
   "metadata": {},
   "outputs": [
    {
     "name": "stdout",
     "output_type": "stream",
     "text": [
      "Created node with properties:  {'color': 'red', 'price': 20000, 'id': 'car_1', 'make_and_model': 'Toyota Corolla 2019'}\n"
     ]
    }
   ],
   "source": [
    "example_node_label_1 = \"Car\"\n",
    "example_node_properties_1 = {\"id\": \"car_1\",\n",
    "                            \"make_and_model\": \"Toyota Corolla 2019\",\n",
    "                            \"color\": \"red\",\n",
    "                            \"price\": 20000\n",
    "                            }\n",
    "\n",
    "result = neo4j_db.create(\n",
    "    tx_type=\"node\",\n",
    "    node_label=example_node_label_1,\n",
    "    properties=example_node_properties_1,\n",
    "    identifier=\"name\",\n",
    ").get(\"result\")\n",
    "\n",
    "record = result[0]\n",
    "\n",
    "if result is not None:\n",
    "    record_dict = dict(record)\n",
    "    record_dict.get(\"name\") == example_node_properties_1.get(\"name\")\n",
    "    record_dict.get(\"value\") == example_node_properties_1.get(\"value\")\n",
    "    print(\"Created node with properties: \", record_dict)"
   ]
  },
  {
   "cell_type": "markdown",
   "metadata": {},
   "source": [
    "##### PROJECT CREATION EXAMPLE"
   ]
  },
  {
   "cell_type": "code",
   "execution_count": 64,
   "metadata": {},
   "outputs": [
    {
     "name": "stdout",
     "output_type": "stream",
     "text": [
      "Created project with id: 6561d2aa317d5801a15d57c9 and name 'Example Project'\n"
     ]
    }
   ],
   "source": [
    "from api.v1.src.services.projects_service import ProjectService\n",
    "\n",
    "def project_service_instance():\n",
    "    mongo_instance = mongo_db\n",
    "    neo4j_instance = neo4j_db\n",
    "    return ProjectService(mongo_instance, neo4j_instance)\n",
    "\n",
    "project_service_instance = project_service_instance()\n",
    "\n",
    "project_data = {\"project_name\": \"Example Project\"}\n",
    "project_id = project_service_instance.create_project(project_data).get(\"result\")\n",
    "project_neo4j = project_service_instance.neo4j.read(\n",
    "    tx_type=\"node\",\n",
    "    node_label=\"Project\",\n",
    "    properties={\"project_name\": \"Example Project\"},\n",
    ").get(\"result\")\n",
    "neo4j_project_name = project_neo4j[\"project_name\"]\n",
    "print (f\"Created project with id: {project_id} and name '{neo4j_project_name}'\")"
   ]
  }
 ],
 "metadata": {
  "kernelspec": {
   "display_name": "Python 3",
   "language": "python",
   "name": "python3"
  },
  "language_info": {
   "codemirror_mode": {
    "name": "ipython",
    "version": 3
   },
   "file_extension": ".py",
   "mimetype": "text/x-python",
   "name": "python",
   "nbconvert_exporter": "python",
   "pygments_lexer": "ipython3",
   "version": "3.9.0"
  }
 },
 "nbformat": 4,
 "nbformat_minor": 4
}
